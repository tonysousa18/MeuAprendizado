{
 "cells": [
  {
   "cell_type": "markdown",
   "metadata": {},
   "source": [
    "## **Divisão e conquista** divide um problema em problemas menores e os resolve;por fim ele combina os resultados para obter uma solucao global otima."
   ]
  },
  {
   "cell_type": "markdown",
   "metadata": {},
   "source": [
    "#### Exemplo 1 - **Busca Binária**:\n",
    "#### A busca binária é um algoritmo eficiente para encontrar um elemento em uma lista ordenada, dividindo-a sucessivamente ao meio. Em cada divisão, descarta a metade que não contém o elemento, reduzindo o espaço de busca. Sua complexidade de tempo é O(log n), tornando-o muito mais rápido que a busca linear em listas grandes."
   ]
  },
  {
   "cell_type": "code",
   "execution_count": 1,
   "metadata": {},
   "outputs": [
    {
     "data": {
      "text/plain": [
       "3"
      ]
     },
     "execution_count": 1,
     "metadata": {},
     "output_type": "execute_result"
    }
   ],
   "source": [
    "def binary_search(array, start, end, key):\n",
    "    # Enquanto a parte da lista que estamos buscando for válida (start <= end)\n",
    "    while start <= end: ##PASSO 1\n",
    "        \n",
    "        ##PASSO 2\n",
    "        # Calcula o índice do elemento do meio, evitando estouro de inteiros\n",
    "        mid = start + (end - start) // 2  # // ao invés de / para divisão inteira\n",
    "        \n",
    "        ##PASSO 3\n",
    "        # Verifica se o elemento do meio é o que estamos buscando\n",
    "        if array[mid] == key:\n",
    "            return mid  # Retorna o índice do elemento encontrado\n",
    "        \n",
    "        ##PASSO 4\n",
    "        # Se o elemento do meio for menor que o valor procurado, busca na metade direita\n",
    "        elif array[mid] < key:\n",
    "            start = mid + 1  # Ajusta o início da busca para o próximo índice após o meio\n",
    "        \n",
    "        ##PASSO 4.1\n",
    "        # Se o elemento do meio for maior que o valor procurado, busca na metade esquerda\n",
    "        else:\n",
    "            end = mid - 1  # Ajusta o fim da busca para o índice anterior ao meio\n",
    "    \n",
    "    ##PASSO 5\n",
    "    # Se o elemento não for encontrado, retorna -1\n",
    "    return -1\n",
    "\n",
    "# Lista de elementos ordenados onde será feita a busca\n",
    "array = [4, 6, 9, 13, 14, 18, 21, 24, 38]\n",
    "\n",
    "# Elemento que desejamos encontrar\n",
    "x = 13\n",
    "\n",
    "# Chama a função de busca binária e armazena o resultado (o índice de x na lista ou -1 se não for encontrado)\n",
    "resultado = binary_search(array, 0, len(array) - 1, x)\n",
    "resultado\n"
   ]
  },
  {
   "cell_type": "markdown",
   "metadata": {},
   "source": [
    "### O que aconteceu?\n",
    "\n",
    "#### **Passo 1**: Enquanto o inicio passado como argumento (0), for menor que o tamanho do array (len(array) - 1), continua\n",
    "#### **Passo 2**: O meio (mid) será o inicio + (final - inicio) dividido por 2. EX: Supondo que o inicio seja 0, e o final 10, o meio seria 5 (0 + (10 - 0) // 2)\n",
    "#### **Passo 3**: Se o meio do array (array[mid]) for igual a chave procurada, retorna instantaneamente o indice do elemento procurado\n",
    "#### **Passo 4**: Caso o passo anterior não seja satisfeito, irá checar se o meio do array é menor que a chave procurada, o inicio(start) agora será o meio + 1, voltando ao passo 2 e cortando a lista no meio e pegando os elementos a esquerda\n",
    "#### **Passo 4.1**: Caso o passo 4 não seja satisfeito, irá perceber que o meio do array é maior que a chave procurada, o fim(end) agora será o meio - 1, voltando ao passo 2 e cortando a lista no meio e pegando os elementos a direita\n",
    "#### **Passo 5**: Caso o elemento não seja encontrado, retorna -1\n",
    "\n",
    "\n",
    "\n"
   ]
  },
  {
   "cell_type": "markdown",
   "metadata": {},
   "source": [
    "----------------------------------------------------------------\n"
   ]
  },
  {
   "cell_type": "markdown",
   "metadata": {},
   "source": [
    "#### Exemplo 2 - **Ordenação por mesclagem**:\n",
    "#### A ordenação por mesclagem (merge sort) é um algoritmo eficiente que organiza os elementos de uma lista dividindo-a sucessivamente ao meio. Cada parte é ordenada de forma independente e, em seguida, as partes ordenadas são mescladas para formar uma lista final ordenada. Sua complexidade de tempo é 𝑂(𝑛 log ⁡𝑛), o que o torna mais eficiente que algoritmos de ordenação simples, especialmente para listas grandes."
   ]
  },
  {
   "cell_type": "code",
   "execution_count": null,
   "metadata": {},
   "outputs": [],
   "source": [
    "def merge_sort(unsorted_list):\n",
    "    if len(unsorted_list) == 1:\n",
    "        return unsorted_list\n",
    "    \n",
    "    mid_point = int(len(unsorted_list) / 2)\n",
    "    first_half = unsorted_list[:mid_point]\n",
    "    second_half = unsorted_list[mid_point:]\n",
    "\n",
    "    half_a = merge_sort(first_half)\n",
    "    half_b = merge_sort(second_half)\n",
    "\n",
    "    return merge(half_a, half_b)\n",
    "\n",
    "def merge(first_sublist, second_sublist):\n",
    "    i = j = 0\n",
    "    merged_list = []\n",
    "\n",
    "    while i < len(first_sublist) and j < len(second_sublist):\n",
    "        if first_sublist[i] < second_sublist[j]:\n",
    "            merged_list.append(first_sublist[i])\n",
    "            i += 1\n",
    "\n",
    "        else:\n",
    "            merged_list.append(second_sublist[j])\n",
    "            j += 1\n",
    "\n",
    "    while i < len(first_sublist):\n",
    "        merged_list.append(first_sublist[i])\n",
    "        i += 1\n",
    "\n",
    "    while j < len(second_sublist):\n",
    "        merged_list.append(second_sublist[j])\n",
    "        j += 1\n",
    "\n",
    "    return merged_list\n",
    "\n",
    "lista_teste = [12, 45, 78, 11, 89, 12, 9, 8, 24]\n",
    "print(merge_sort(lista_teste))"
   ]
  },
  {
   "cell_type": "markdown",
   "metadata": {},
   "source": [
    "### O que aconteceu?\n",
    "\n",
    "#### **Passo 1**: O algoritmo verifica se o tamanho da lista é 1 (`len(unsorted_list) == 1`). Se for, significa que a lista já está ordenada e é retornada como está.\n",
    "\n",
    "#### **Passo 2**: A lista é dividida ao meio. O ponto médio (`mid_point`) é calculado como o tamanho da lista dividido por 2. A lista é então separada em duas metades: `first_half` (da posição inicial até o meio) e `second_half` (do meio até o final).\n",
    "\n",
    "#### **Passo 3**: O **merge sort** é chamado recursivamente para ordenar as duas metades: `half_a = merge_sort(first_half)` e `half_b = merge_sort(second_half)`. Isso continua até que todas as sublistas tenham apenas um elemento.\n",
    "\n",
    "#### **Passo 4**: Agora que as duas metades estão ordenadas, a função `merge()` é chamada para unir as duas listas ordenadas (`half_a` e `half_b`) em uma única lista ordenada. \n",
    "\n",
    "#### **Passo 4.1**: No processo de mesclagem, dois ponteiros `i` e `j` percorrem as sublistas. O menor elemento entre `first_sublist[i]` e `second_sublist[j]` é adicionado à lista final `merged_list`. O ponteiro correspondente (`i` ou `j`) é incrementado.\n",
    "\n",
    "#### **Passo 4.2**: Se uma das listas for completamente percorrida, os elementos restantes da outra lista são adicionados diretamente à `merged_list`.\n",
    "\n",
    "#### **Passo 5**: A lista ordenada final é retornada pela função `merge()`, que também é retornada pela função principal `merge_sort()`.\n",
    "\n",
    "#### **Exemplo prático** (com a lista [12, 45, 78, 11, 89, 12, 9, 8, 24]):\n",
    "1. **Divisão**: [12, 45, 78, 11] e [89, 12, 9, 8, 24]  \n",
    "2. **Divisão**: [12, 45] [78, 11] [89, 12] [9, 8, 24]  \n",
    "3. **Divisão**: [12] [45] [78] [11] [89] [12] [9] [8] [24] (listas com 1 elemento)  \n",
    "4. **Mesclagem**: [12, 45] [11, 78] [12, 89] [8, 9, 24]  \n",
    "5. **Mesclagem**: [11, 12, 45, 78] [8, 9, 12, 24, 89]  \n",
    "6. **Mesclagem final**: [8, 9, 11, 12, 12, 24, 45, 78, 89]  \n",
    "\n",
    "Agora, a lista está ordenada!"
   ]
  }
 ],
 "metadata": {
  "kernelspec": {
   "display_name": "base",
   "language": "python",
   "name": "python3"
  },
  "language_info": {
   "codemirror_mode": {
    "name": "ipython",
    "version": 3
   },
   "file_extension": ".py",
   "mimetype": "text/x-python",
   "name": "python",
   "nbconvert_exporter": "python",
   "pygments_lexer": "ipython3",
   "version": "3.12.7"
  }
 },
 "nbformat": 4,
 "nbformat_minor": 2
}
