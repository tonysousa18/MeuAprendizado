{
 "cells": [
  {
   "cell_type": "markdown",
   "metadata": {},
   "source": [
    "#### Programação Dinâmica (PD) é uma técnica de otimização utilizada para resolver problemas complexos dividindo-os em subproblemas menores e solucionando cada um deles apenas uma vez, armazenando os resultados. Essa abordagem é especialmente útil para problemas com subproblemas sobrepostos, onde os mesmos cálculos se repetem várias vezes. Em vez de recalcular repetidamente os mesmos valores, a PD armazena os resultados em uma estrutura de dados, como um array ou tabela (técnica conhecida como memoization), ou preenche gradualmente uma tabela com os resultados intermediários (técnica conhecida como bottom-up).\n",
    "\n",
    "#### Os principais componentes da Programação Dinâmica incluem: \n",
    "#### Subproblemas sobrepostos: Quando um problema pode ser decomposto em subproblemas menores que se repetem.\n",
    "\n",
    "#### Subestrutura ótima: Quando a solução ótima de um problema pode ser construída a partir das soluções ótimas de seus subproblemas.\n",
    "\n",
    "#### Programação Dinâmica é amplamente aplicada em problemas como cálculo de sequências de Fibonacci, algoritmos de alinhamento de sequências, problemas de mochila, caminhos mínimos em grafos, entre outros."
   ]
  },
  {
   "cell_type": "code",
   "execution_count": 1,
   "metadata": {},
   "outputs": [
    {
     "name": "stdout",
     "output_type": "stream",
     "text": [
      "0\n",
      "1\n",
      "1\n",
      "2\n",
      "3\n",
      "5\n"
     ]
    }
   ],
   "source": [
    "def dyna_fib(n):\n",
    "    if n == 0:\n",
    "        return 0\n",
    "    \n",
    "    if n == 1:\n",
    "        return 1\n",
    "    \n",
    "    if lookup[n] is not None:\n",
    "        return lookup[n]\n",
    "    \n",
    "    lookup[n] = dyna_fib(n - 1) + dyna_fib(n - 2)\n",
    "    return lookup[n]\n",
    "\n",
    "lookup = [None] * (1000)\n",
    "\n",
    "for i in range(6):\n",
    "    print(dyna_fib(i))"
   ]
  },
  {
   "cell_type": "markdown",
   "metadata": {},
   "source": [
    "\n",
    "#### O código apresentado implementa o cálculo da sequência de Fibonacci utilizando Programação Dinâmica com memoization. Aqui está uma explicação detalhada:\n",
    "\n",
    "##### Função dyna_fib:\n",
    "\n",
    "##### A função recebe um número inteiro n e retorna o n-ésimo número da sequência de Fibonacci.\n",
    "\n",
    "##### Para os casos base, se n for 0, retorna 0, e se for 1, retorna 1.\n",
    "\n",
    "##### Verifica se o resultado de dyna_fib(n) já foi calculado e armazenado no array lookup. Se sim, simplesmente retorna o valor armazenado, evitando o cálculo redundante.\n",
    "\n",
    "##### Caso contrário, calcula o valor de Fibonacci como a soma de dyna_fib(n - 1) e dyna_fib(n - 2), armazena no array lookup, e retorna o resultado.\n",
    "\n",
    "##### Array lookup:\n",
    "\n",
    "##### Um array global chamado lookup é criado com 1000 elementos, todos inicializados como None. Esse array é utilizado para armazenar os valores previamente calculados da sequência de Fibonacci.\n",
    "\n",
    "##### Iteração para imprimir os primeiros números de Fibonacci:\n",
    "\n",
    "##### Um loop for itera de 0 a 5, calculando e imprimindo os primeiros seis números da sequência de Fibonacci usando a função dyna_fib.\n",
    "\n",
    "##### Saída esperada:\n",
    "\n",
    "##### O código imprime: 0, 1, 1, 2, 3, 5. Esses valores correspondem aos primeiros seis números da sequência de Fibonacci."
   ]
  }
 ],
 "metadata": {
  "kernelspec": {
   "display_name": "base",
   "language": "python",
   "name": "python3"
  },
  "language_info": {
   "codemirror_mode": {
    "name": "ipython",
    "version": 3
   },
   "file_extension": ".py",
   "mimetype": "text/x-python",
   "name": "python",
   "nbconvert_exporter": "python",
   "pygments_lexer": "ipython3",
   "version": "3.12.7"
  }
 },
 "nbformat": 4,
 "nbformat_minor": 2
}
