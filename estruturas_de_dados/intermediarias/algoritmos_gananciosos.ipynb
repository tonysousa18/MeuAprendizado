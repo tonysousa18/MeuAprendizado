{
 "cells": [
  {
   "cell_type": "markdown",
   "metadata": {},
   "source": [
    "# **Algoritmos ganaciosos**\n",
    "\n",
    "## Nos algoritmos gananciosos, o objetivo é obter a soluçao otima a partir de muitas soluçoes possiveis em cada etapa, que pode acabar levando a solucao otima global\n",
    "\n",
    "### Na abordagem gananciosa, um algoritmo pra obter o maior numero possivel usando os digitos fornecidos abaixo é a seguinte: \n"
   ]
  },
  {
   "cell_type": "code",
   "execution_count": 1,
   "metadata": {},
   "outputs": [
    {
     "data": {
      "text/plain": [
       "'965'"
      ]
     },
     "execution_count": 1,
     "metadata": {},
     "output_type": "execute_result"
    }
   ],
   "source": [
    "digitos = [1, 4, 2, 6, 9, 5]\n",
    "maior_numero = ''\n",
    "\n",
    "#Para cada numero na lista:\n",
    "for i in digitos:\n",
    "    #Pega o maior numero, converte numa string e adiciona a variavel maior numero\n",
    "    maior_numero += str(max(digitos))\n",
    "    #Remove o maior numero atual\n",
    "    digitos.remove(max(digitos))\n",
    "\n",
    "maior_numero\n"
   ]
  },
  {
   "cell_type": "markdown",
   "metadata": {},
   "source": [
    "##"
   ]
  }
 ],
 "metadata": {
  "kernelspec": {
   "display_name": "base",
   "language": "python",
   "name": "python3"
  },
  "language_info": {
   "codemirror_mode": {
    "name": "ipython",
    "version": 3
   },
   "file_extension": ".py",
   "mimetype": "text/x-python",
   "name": "python",
   "nbconvert_exporter": "python",
   "pygments_lexer": "ipython3",
   "version": "3.12.7"
  }
 },
 "nbformat": 4,
 "nbformat_minor": 2
}
