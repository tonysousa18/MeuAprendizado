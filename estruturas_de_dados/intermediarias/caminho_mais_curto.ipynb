{
 "cells": [
  {
   "cell_type": "markdown",
   "metadata": {},
   "source": [
    "# **Caminho mais curto**\n",
    "\n",
    "## O problema do caminho mais curto requer que encontremos a rota mais curta possivel entre as vertices de um grafo. Dijkstra é um metodo popular para solucionar esse problema por meio da abordagem gananciosa. Ele busca a distancia mais curta entre um no de origem a um no de destino de um grafo.\n",
    "\n",
    "## Considerando o grafo abaixo..."
   ]
  },
  {
   "cell_type": "code",
   "execution_count": 7,
   "metadata": {},
   "outputs": [],
   "source": [
    "graph = dict()\n",
    "graph['A'] = {'B': 5, 'D': 9 , 'E': 2}  # A conecta-se a B (5), D (9) e E (2)\n",
    "graph['B'] = {'A': 5, 'C': 2}           # B conecta-se a A (5) e C (2)\n",
    "graph['C'] = {'B': 2, 'D': 3}           # C conecta-se a B (2) e D (3)\n",
    "graph['D'] = {'C': 3, 'A': 9, 'F': 2}   # D conecta-se a C (3), A (9) e F (2)\n",
    "graph['E'] = {'A': 2, 'F': 3}           # E conecta-se a A (2) e F (3)\n",
    "graph['F'] = {'D': 2, 'E': 3}           # F conecta-se a D (2) e E (3)\n",
    "\n",
    "# Inicializa a tabela de distâncias e nós anteriores\n",
    "table = {\n",
    "    'A' : [0, None],      # A distância do nó inicial (A) até ele mesmo é 0\n",
    "    'B' : [float(\"inf\"), None],  # Inicialmente, as distâncias para os outros nós são ∞ (desconhecidas)\n",
    "    'C' : [float(\"inf\"), None],\n",
    "    'D' : [float(\"inf\"), None],\n",
    "    'E' : [float(\"inf\"), None],\n",
    "    'F' : [float(\"inf\"), None]\n",
    "}\n",
    "\n",
    "# Constantes para facilitar a leitura do código\n",
    "DISTANCE = 0          # Índice para acessar a distância na tabela\n",
    "PREVIOUS_NODE = 1     # Índice para acessar o nó anterior na tabela\n",
    "INFINITY = float(\"inf\")  # Representação de infinito\n",
    "\n",
    "# Função para obter a menor distância registrada para um nó\n",
    "def get_shortest_distance(table, vertex):\n",
    "    shortest_distance = table[vertex][DISTANCE]  # Obtém a distância do nó na tabela\n",
    "    return shortest_distance\n",
    "\n",
    "# Função para atualizar a menor distância registrada para um nó\n",
    "def set_shortest_distance(table, vertex, new_distance):\n",
    "    table[vertex][DISTANCE] = new_distance  # Define a nova distância na tabela\n",
    "\n",
    "# Função para definir o nó anterior no menor caminho encontrado\n",
    "def set_previous_node(table, vertex, previous_node):\n",
    "    table[vertex][PREVIOUS_NODE] = previous_node  # Atualiza o nó anterior na tabela\n",
    "\n",
    "# Função para obter a distância entre dois nós no grafo\n",
    "def get_distance(graph, first_vertex, second_vertex):\n",
    "    return graph[first_vertex][second_vertex]  # Retorna o peso da aresta entre os nós\n",
    "\n",
    "# Função para selecionar o próximo nó a ser visitado (Dijkstra)\n",
    "def get_next_node(table, visited_nodes):\n",
    "    # Obtém a lista de nós ainda não visitados\n",
    "    unvisited_nodes = list(set(table.keys()).difference(set(visited_nodes)))\n",
    "\n",
    "    # Se não houver mais nós não visitados, retorna None (evita erro)\n",
    "    if not unvisited_nodes:  \n",
    "        return None  \n",
    "\n",
    "    # Assume que o primeiro nó não visitado tem a menor distância conhecida\n",
    "    min_vertex = unvisited_nodes[0]\n",
    "    assumed_min = table[min_vertex][DISTANCE]\n",
    "\n",
    "    # Percorre todos os nós não visitados para encontrar o de menor distância\n",
    "    for node in unvisited_nodes:\n",
    "        if table[node][DISTANCE] < assumed_min:\n",
    "            assumed_min = table[node][DISTANCE]  # Atualiza a menor distância\n",
    "            min_vertex = node  # Atualiza o nó correspondente\n",
    "\n",
    "    return min_vertex  # Retorna o nó com a menor distância encontrada\n"
   ]
  },
  {
   "cell_type": "code",
   "execution_count": 14,
   "metadata": {},
   "outputs": [],
   "source": [
    "def find_shortest_path(graph, table, origin):\n",
    "    visited_nodes = []  # Lista de nós já visitados\n",
    "    current_node = origin  # Começamos pelo nó de origem\n",
    "    starting_node = origin  # Guardamos o nó de origem para referência\n",
    "\n",
    "    while True:  # Loop principal do algoritmo\n",
    "        adjacent_nodes = graph[current_node]  # Obtém os nós vizinhos do nó atual\n",
    "\n",
    "        # Se todos os vizinhos do nó atual já foram visitados, seguimos em frente\n",
    "        if set(adjacent_nodes).issubset(set(visited_nodes)):\n",
    "            pass\n",
    "        else:\n",
    "            # Filtra os vizinhos que ainda não foram visitados\n",
    "            unvisited_nodes = set(adjacent_nodes).difference(set(visited_nodes))\n",
    "\n",
    "            for vertex in unvisited_nodes:\n",
    "                distance_from_starting_node = get_shortest_distance(table, vertex)\n",
    "\n",
    "                # Se o nó ainda está como infinito e estamos na origem, pegamos a distância direta\n",
    "                if distance_from_starting_node == INFINITY and current_node == starting_node:\n",
    "                    total_distance = get_distance(graph, vertex, current_node)\n",
    "                else:\n",
    "                    # Calculamos a distância total pelo caminho atual\n",
    "                    total_distance = get_shortest_distance(table, current_node) + get_distance(graph, current_node, vertex)\n",
    "\n",
    "                # Se encontramos um caminho mais curto, atualizamos a tabela\n",
    "                if total_distance < distance_from_starting_node:\n",
    "                    set_shortest_distance(table, vertex, total_distance)\n",
    "                    set_previous_node(table, vertex, current_node)\n",
    "\n",
    "        # Adicionamos o nó atual na lista dos visitados\n",
    "        visited_nodes.append(current_node)\n",
    "\n",
    "        # Se já visitamos todos os nós, saímos do loop\n",
    "        if len(visited_nodes) == len(table.keys()):\n",
    "            break\n",
    "\n",
    "        # Pegamos o próximo nó a ser visitado\n",
    "        current_node = get_next_node(table, visited_nodes)\n",
    "\n",
    "    return table  # Retornamos a tabela final com as menores distâncias\n"
   ]
  },
  {
   "cell_type": "code",
   "execution_count": 15,
   "metadata": {},
   "outputs": [
    {
     "name": "stdout",
     "output_type": "stream",
     "text": [
      "A - [0, None]\n",
      "B - [5, 'A']\n",
      "C - [7, 'B']\n",
      "D - [7, 'F']\n",
      "E - [2, 'A']\n",
      "F - [5, 'E']\n"
     ]
    }
   ],
   "source": [
    "shortest_distance_table = find_shortest_path(graph, table, 'A')\n",
    "\n",
    "for k in sorted(shortest_distance_table):\n",
    "    print(f\"{k} - {shortest_distance_table[k]}\")"
   ]
  },
  {
   "cell_type": "code",
   "execution_count": null,
   "metadata": {},
   "outputs": [],
   "source": []
  }
 ],
 "metadata": {
  "kernelspec": {
   "display_name": "base",
   "language": "python",
   "name": "python3"
  },
  "language_info": {
   "codemirror_mode": {
    "name": "ipython",
    "version": 3
   },
   "file_extension": ".py",
   "mimetype": "text/x-python",
   "name": "python",
   "nbconvert_exporter": "python",
   "pygments_lexer": "ipython3",
   "version": "3.12.7"
  }
 },
 "nbformat": 4,
 "nbformat_minor": 2
}
