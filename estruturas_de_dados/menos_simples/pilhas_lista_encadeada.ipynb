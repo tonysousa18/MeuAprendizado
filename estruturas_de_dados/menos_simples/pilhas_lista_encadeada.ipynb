{
 "cells": [
  {
   "cell_type": "markdown",
   "metadata": {},
   "source": [
    "# **IMPLEMENTACAO DA PILHA COM LISTAS ENCADEADAS**\n",
    "\n",
    "## Para implementar as pilhas usando listas encadeadas, criaremos a classe Stack na qual todos os metodos serao declarados."
   ]
  },
  {
   "cell_type": "code",
   "execution_count": 3,
   "metadata": {},
   "outputs": [],
   "source": [
    "class Node:\n",
    "    def __init__(self, data):\n",
    "        \"\"\"Inicializa um nó com um dado e um ponteiro 'next' apontando para None.\"\"\"\n",
    "        self.data = data  # Armazena o valor do nó\n",
    "        self.next = None  # Inicialmente, o próximo nó é None\n",
    "\n",
    "class Stack:\n",
    "    def __init__(self):\n",
    "        \"\"\"Inicializa uma pilha vazia com um topo None e tamanho 0.\"\"\"\n",
    "        self.top = None  # Indica o topo da pilha\n",
    "        self.size = 0    # Contador de elementos na pilha\n",
    "\n",
    "    def push(self, data):\n",
    "        \"\"\"Adiciona um novo elemento ao topo da pilha.\"\"\"\n",
    "        node = Node(data)  # Cria um novo nó com o dado fornecido\n",
    "\n",
    "        if self.top:  # Se a pilha não estiver vazia\n",
    "            node.next = self.top  # O novo nó aponta para o antigo topo\n",
    "            self.top = node  # O novo nó se torna o topo da pilha\n",
    "        else:  # Se a pilha estiver vazia\n",
    "            self.top = node  # O novo nó se torna o primeiro elemento\n",
    "\n",
    "        self.size += 1  # Incrementa o tamanho da pilha\n",
    "\n",
    "    def pop(self):\n",
    "        if self.top: #Se ouver elementos\n",
    "            data = self.top.data #O dado a ser retirado é o dado do atual top\n",
    "            self.size -= 1 #Retira uma unidade da pilha\n",
    "\n",
    "            if self.top.next: #Se ouver mais de um elemento\n",
    "                self.top = self.top.next #O top aponta para proximo elemento\n",
    "\n",
    "            else: #Se nao tiver mais elementos\n",
    "                self.top = None #Top é none\n",
    "            \n",
    "            return data #Retorna o dado obtido\n",
    "        else:\n",
    "            print(\"Pilha vazia\")\n",
    "\n",
    "    def peek(self):\n",
    "        if self.top:\n",
    "            return self.top.data\n",
    "        else:\n",
    "            print('Pilha vazia')\n",
    "\n"
   ]
  },
  {
   "cell_type": "markdown",
   "metadata": {},
   "source": [
    "# **APLICACAO DE UMA PILHA**"
   ]
  },
  {
   "cell_type": "code",
   "execution_count": 4,
   "metadata": {},
   "outputs": [],
   "source": [
    "def checar_parenteses(expressao):\n",
    "    \"\"\"Verifica se os parênteses, colchetes e chaves estão balanceados em uma expressão.\"\"\"\n",
    "\n",
    "    pilha_checagem = Stack()  # Cria uma pilha para armazenar os símbolos de abertura\n",
    "    last = ''  # Variável para armazenar o último elemento removido da pilha\n",
    "\n",
    "    for caractere in expressao:\n",
    "        if caractere in ('{', '[', '('):  # Se for um símbolo de abertura\n",
    "            pilha_checagem.push(caractere)  # Adiciona à pilha\n",
    "\n",
    "        if caractere in ('}', ']', ')'):  # Se for um símbolo de fechamento\n",
    "            last = pilha_checagem.pop()  # Remove o último elemento da pilha\n",
    "\n",
    "            # Verifica se o último elemento aberto corresponde ao fechamento atual\n",
    "            if last == '{' and caractere == '}':\n",
    "                continue\n",
    "            elif last == '[' and caractere == ']':\n",
    "                continue\n",
    "            elif last == '(' and caractere == ')':\n",
    "                continue\n",
    "            else:\n",
    "                return False  # Se não corresponder, a expressão não está balanceada\n",
    "\n",
    "    # Se a pilha ainda tiver elementos, há mais aberturas do que fechamentos\n",
    "    if pilha_checagem.size > 0:\n",
    "        return False\n",
    "    else:\n",
    "        return True  # Se a pilha estiver vazia, a expressão está corretamente balanceada\n"
   ]
  },
  {
   "cell_type": "code",
   "execution_count": null,
   "metadata": {},
   "outputs": [
    {
     "data": {
      "text/plain": [
       "False"
      ]
     },
     "execution_count": 7,
     "metadata": {},
     "output_type": "execute_result"
    }
   ],
   "source": [
    "palavra = \"Teste{de expressao}\"\n",
    "\n",
    "checar_parenteses(palavra)"
   ]
  }
 ],
 "metadata": {
  "kernelspec": {
   "display_name": "base",
   "language": "python",
   "name": "python3"
  },
  "language_info": {
   "codemirror_mode": {
    "name": "ipython",
    "version": 3
   },
   "file_extension": ".py",
   "mimetype": "text/x-python",
   "name": "python",
   "nbconvert_exporter": "python",
   "pygments_lexer": "ipython3",
   "version": "3.12.7"
  }
 },
 "nbformat": 4,
 "nbformat_minor": 2
}
