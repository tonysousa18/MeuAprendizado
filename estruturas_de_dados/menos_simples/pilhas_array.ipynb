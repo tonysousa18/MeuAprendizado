{
 "cells": [
  {
   "cell_type": "markdown",
   "metadata": {},
   "source": [
    "# **PILHAS**\n",
    "\n",
    "## Uma pilha é uma estrutura de dados que armazena dados como uma pilha de pratos em uma cozinha. Voce pode colocar um dado no topo da pilha e quando precisar dele, pegara o que estiver no topo.\n",
    "\n",
    "## Uma pilha é uma estrutura de dados que armazena os dados em ordem especifica como em arrays e listas encadeadas, com varias restricoes:\n",
    "\n",
    "- Elementos de dados só podem ser inseridos no fim da pilha (push)\n",
    "- ELementos de dados só podem ser excluidos do fim da pilha (pop)\n",
    "- Só o ultimo elemento de dados pode ser lido na pilha (peek)\n",
    "\n",
    "\n",
    "## Quando um elemento é adicionado ao topo da pilha essa operacao chama-se push, e quando um elemento é selecionado essa operacao chama-se pop. Existe outra chamada peek, na qual o elemento do topo pode ser visualizado sem ser removido da pilha. Essas operacoes sao executadas por meio de um ponteiro que geralmente chama-se top.\n",
    "\n",
    "## No caso da implementacao de uma pilha baseada em array, é importante verificar se a pilha está ou não cheia, ja que tentar inserir um elemento em uma pilha cheia gerará um erro chamado Overflow, do mesmo modo que que tentar aplicar um pop numa pilha vazia gerará um erro chamado Underflow.\n",
    "\n"
   ]
  },
  {
   "cell_type": "code",
   "execution_count": 62,
   "metadata": {},
   "outputs": [],
   "source": [
    "size = 3\n",
    "data = [0] * (size)\n",
    "top = -1 #Pilha atualmente vazia\n",
    "\n",
    "def push(x):\n",
    "    global top\n",
    "    if top >= size - 1: #Se o top for maior que o tamanho da pilha\n",
    "        print('Stack Overflow') #Estouro\n",
    "    \n",
    "    else: #Se nao\n",
    "        top = top + 1 #O top incrementa 1\n",
    "        data[top] = x #O indice do top vai receber novo dado\n",
    "\n",
    "def pop():\n",
    "    global top\n",
    "    \n",
    "    if top == -1: #Se a pilha estiver vazia\n",
    "        print('Stack Underflow')\n",
    "\n",
    "    else: #Se nao\n",
    "        top = top - 1 #Retira uma unidade da varivel top que controla\n",
    "        data[top] = 0 #O elemento retirado vira 0\n",
    "\n",
    "        return data[top + 1] #Retorna o dado retirado\n",
    "    \n",
    "def peek():\n",
    "    global top\n",
    "\n",
    "    if top == -1:\n",
    "        print('Lista vazia')\n",
    "    \n",
    "    else:\n",
    "        print(data[top])\n"
   ]
  },
  {
   "cell_type": "code",
   "execution_count": 63,
   "metadata": {},
   "outputs": [
    {
     "data": {
      "text/plain": [
       "['Ovo', 'Leite', 'Massa']"
      ]
     },
     "execution_count": 63,
     "metadata": {},
     "output_type": "execute_result"
    }
   ],
   "source": [
    "push('Ovo')\n",
    "push('Leite')\n",
    "push('Massa')\n",
    "\n",
    "\n",
    "data[0 : top + 1] #printa todos os valores, do primeiro ao ultimo indice\n",
    "\n"
   ]
  },
  {
   "cell_type": "code",
   "execution_count": 64,
   "metadata": {},
   "outputs": [
    {
     "name": "stdout",
     "output_type": "stream",
     "text": [
      "Stack Underflow\n"
     ]
    }
   ],
   "source": [
    "pop()\n",
    "pop()\n",
    "pop()\n",
    "pop()\n",
    "\n"
   ]
  },
  {
   "cell_type": "code",
   "execution_count": 65,
   "metadata": {},
   "outputs": [],
   "source": [
    "push('Ovo')\n",
    "push('Leite')\n",
    "push('Massa')"
   ]
  },
  {
   "cell_type": "code",
   "execution_count": 66,
   "metadata": {},
   "outputs": [
    {
     "name": "stdout",
     "output_type": "stream",
     "text": [
      "Massa\n"
     ]
    }
   ],
   "source": [
    "peek()\n",
    "\n"
   ]
  }
 ],
 "metadata": {
  "kernelspec": {
   "display_name": "base",
   "language": "python",
   "name": "python3"
  },
  "language_info": {
   "codemirror_mode": {
    "name": "ipython",
    "version": 3
   },
   "file_extension": ".py",
   "mimetype": "text/x-python",
   "name": "python",
   "nbconvert_exporter": "python",
   "pygments_lexer": "ipython3",
   "version": "3.12.7"
  }
 },
 "nbformat": 4,
 "nbformat_minor": 2
}
